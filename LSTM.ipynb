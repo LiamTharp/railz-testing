{
 "cells": [
  {
   "cell_type": "code",
   "execution_count": 614,
   "metadata": {},
   "outputs": [],
   "source": [
    "from tensorflow.keras.layers import LSTM, Dense\n",
    "from tensorflow.keras import Sequential\n",
    "import json\n",
    "import pandas as pd\n",
    "import os\n",
    "import numpy as np\n",
    "from matplotlib import pyplot as plt\n",
    "from sklearn.preprocessing import MinMaxScaler\n",
    "import sklearn.metrics as metrics"
   ]
  },
  {
   "cell_type": "code",
   "execution_count": 471,
   "metadata": {},
   "outputs": [],
   "source": [
    "rawdata = {}\n",
    "\n",
    "datapath = r'./data/reshaped/'\n",
    "for file in os.listdir(datapath):\n",
    "    with open(datapath + file) as f:\n",
    "        rawdata[file.split('.')[0]] = json.load(f)\n",
    "        \n"
   ]
  },
  {
   "cell_type": "code",
   "execution_count": 495,
   "metadata": {},
   "outputs": [],
   "source": [
    "t = []\n",
    "for i, sample in enumerate(rawdata['2012q1']['index']):\n",
    "    t.append([])\n",
    "    for timestep in rawdata.keys():\n",
    "        t[i].append(rawdata[timestep]['data'][i])\n",
    "data = np.nan_to_num(np.array(t).astype('float32'))\n"
   ]
  },
  {
   "cell_type": "code",
   "execution_count": 497,
   "metadata": {},
   "outputs": [],
   "source": [
    "transformed = []\n",
    "scalers = []\n",
    "for sample in data:\n",
    "    scaler = MinMaxScaler()\n",
    "    transformed.append(scaler.fit_transform(sample))\n",
    "    scalers.append(scaler)\n",
    "transformed_data = np.array(transformed)    "
   ]
  },
  {
   "cell_type": "code",
   "execution_count": 500,
   "metadata": {},
   "outputs": [],
   "source": [
    "(samples, timesteps, features) = data.shape\n",
    "\n",
    "train_split = 0.8\n",
    "\n",
    "train_size = int(samples * train_split)\n",
    "batch_size = 1\n",
    "\n",
    "input_shape = (timesteps-1, features)\n",
    "\n",
    "x_train, x_test = transformed_data[:train_size,:-1], transformed_data[train_size:, :-1]\n",
    "y_train, y_test = transformed_data[:train_size,1,:].reshape(train_size,1,features), transformed_data[train_size:, 1]"
   ]
  },
  {
   "cell_type": "code",
   "execution_count": 567,
   "metadata": {},
   "outputs": [
    {
     "data": {
      "text/plain": [
       "array([0.        , 0.        , 0.2846606 , 0.9319115 , 0.        ,\n",
       "       0.8124988 , 0.        , 0.64462787, 0.        , 0.        ,\n",
       "       0.301226  , 0.        , 0.81391466, 0.        , 0.        ,\n",
       "       0.        , 0.        , 0.        , 0.        , 0.        ,\n",
       "       0.        , 0.        , 0.        , 0.        , 0.        ,\n",
       "       0.        , 0.        , 0.        , 0.        ], dtype=float32)"
      ]
     },
     "execution_count": 567,
     "metadata": {},
     "output_type": "execute_result"
    }
   ],
   "source": [
    "x_test[0,0]"
   ]
  },
  {
   "cell_type": "code",
   "execution_count": 475,
   "metadata": {},
   "outputs": [],
   "source": [
    "\n",
    "model = Sequential()\n",
    "\n",
    "model.add( LSTM(units= 128, input_shape = input_shape) )\n",
    "\n",
    "model.add( Dense(units = features) )\n",
    "\n",
    "model.compile(optimizer='adam', loss='mae')"
   ]
  },
  {
   "cell_type": "code",
   "execution_count": 476,
   "metadata": {},
   "outputs": [
    {
     "name": "stdout",
     "output_type": "stream",
     "text": [
      "Train on 201 samples\n",
      "Epoch 1/10\n",
      "201/201 [==============================] - 5s 27ms/sample - loss: 0.2030\n",
      "Epoch 2/10\n",
      "201/201 [==============================] - 3s 13ms/sample - loss: 0.1814\n",
      "Epoch 3/10\n",
      "201/201 [==============================] - 3s 14ms/sample - loss: 0.1751\n",
      "Epoch 4/10\n",
      "201/201 [==============================] - 3s 15ms/sample - loss: 0.1710\n",
      "Epoch 5/10\n",
      "201/201 [==============================] - 3s 14ms/sample - loss: 0.1692\n",
      "Epoch 6/10\n",
      "201/201 [==============================] - 3s 14ms/sample - loss: 0.16550s - loss\n",
      "Epoch 7/10\n",
      "201/201 [==============================] - 5s 27ms/sample - loss: 0.1625\n",
      "Epoch 8/10\n",
      "201/201 [==============================] - 3s 14ms/sample - loss: 0.1614\n",
      "Epoch 9/10\n",
      "201/201 [==============================] - 3s 15ms/sample - loss: 0.1596\n",
      "Epoch 10/10\n",
      "201/201 [==============================] - 5s 26ms/sample - loss: 0.1578\n"
     ]
    },
    {
     "data": {
      "text/plain": [
       "<tensorflow.python.keras.callbacks.History at 0x1bcac0eed08>"
      ]
     },
     "execution_count": 476,
     "metadata": {},
     "output_type": "execute_result"
    }
   ],
   "source": [
    "\n",
    "model.fit(x_train, y_train, epochs= 10, verbose= True, batch_size= batch_size)"
   ]
  },
  {
   "cell_type": "code",
   "execution_count": 481,
   "metadata": {},
   "outputs": [],
   "source": [
    "predictions = model.predict(x_test)"
   ]
  },
  {
   "cell_type": "code",
   "execution_count": 515,
   "metadata": {},
   "outputs": [],
   "source": [
    "pred_and_test = np.append(x_test,predictions.reshape(x_test.shape[0], 1, x_test.shape[2]), axis=1)\n",
    "true_and_test = np.append(x_test,y_test.reshape(x_test.shape[0], 1, x_test.shape[2]), axis=1)"
   ]
  },
  {
   "cell_type": "code",
   "execution_count": 570,
   "metadata": {},
   "outputs": [],
   "source": [
    "# untransformed_results = [result for result in results]\n",
    "pred_untransformed = []\n",
    "true_untransformed = []\n",
    "\n",
    "for i in range(x_test.shape[0]):\n",
    "    pred_untransformed.append( scalers[train_size+i].inverse_transform(pred_and_test[i]) )\n",
    "    true_untransformed.append( scalers[train_size+i].inverse_transform(true_and_test[i]) )\n",
    "    \n",
    "pred_untransformed = np.array(pred_untransformed)\n",
    "true_untransformed = np.array(true_untransformed)"
   ]
  },
  {
   "cell_type": "code",
   "execution_count": 609,
   "metadata": {},
   "outputs": [
    {
     "data": {
      "text/plain": [
       "<matplotlib.legend.Legend at 0x1bcb1e0dcc8>"
      ]
     },
     "execution_count": 609,
     "metadata": {},
     "output_type": "execute_result"
    },
    {
     "data": {
      "image/png": "[encoded data removed]",
      "text/plain": [
       "<Figure size 432x288 with 1 Axes>"
      ]
     },
     "metadata": {
      "needs_background": "light"
     },
     "output_type": "display_data"
    }
   ],
   "source": [
    "index = (0,18)\n",
    "\n",
    "fig, ax = plt.subplots()\n",
    "\n",
    "ax.plot(true_untransformed[index[0],:-1,index[1]], '-k')\n",
    "ax.plot(pred_untransformed[index[0],:,index[1]], '.r', label='prediction')\n",
    "ax.plot(true_untransformed[index[0],:,index[1]], '.b', label='actual')\n",
    "ax.legend()\n",
    "# pred_untransformed[0,:,5]"
   ]
  },
  {
   "cell_type": "code",
   "execution_count": 635,
   "metadata": {},
   "outputs": [
    {
     "data": {
      "text/plain": [
       "(51, 32, 29)"
      ]
     },
     "execution_count": 635,
     "metadata": {},
     "output_type": "execute_result"
    }
   ],
   "source": [
    "true_untransformed.shape"
   ]
  },
  {
   "cell_type": "code",
   "execution_count": 641,
   "metadata": {},
   "outputs": [
    {
     "name": "stdout",
     "output_type": "stream",
     "text": [
      "Prediction\tCarry\t\tFeature\n",
      "--------------------------------------------------\n",
      "4.56E+08\t2.44E+08\tAccountsPayableCurrent\n",
      "1.77E+07\t9.24E+07\tAccountsReceivableNetCurrent\n",
      "7.00E+07\t1.59E+08\tAccumulatedOtherComprehensiveIncomeLossNetOfTax\n",
      "2.10E+08\t4.41E+08\tAdditionalPaidInCapital\n",
      "4.25E+07\t4.70E+08\tAdditionalPaidInCapitalCommonStock\n",
      "6.11E+09\t1.42E+10\tAssets\n",
      "6.84E+08\t7.01E+08\tAssetsCurrent\n",
      "5.14E+08\t2.44E+08\tCashAndCashEquivalentsAtCarryingValue\n",
      "2.70E+04\t0.00E+00\tCommitmentsAndContingencies\n",
      "6.03E+08\t1.21E+09\tGoodwill\n",
      "2.27E+08\t7.97E+08\tIntangibleAssetsNetExcludingGoodwill\n",
      "3.07E+08\t1.52E+08\tInventoryNet\n",
      "7.11E+09\t1.37E+10\tLiabilitiesAndStockholdersEquity\n",
      "6.73E+08\t1.07E+09\tLiabilitiesCurrent\n",
      "2.74E+08\t1.67E+09\tLongTermDebtNoncurrent\n",
      "5.36E+07\t2.35E+08\tMinorityInterest\n",
      "9.54E+06\t8.31E+07\tOtherAssetsCurrent\n",
      "3.53E+07\t9.16E+07\tOtherAssetsNoncurrent\n",
      "2.05E+08\t5.73E+07\tOtherLiabilitiesNoncurrent\n",
      "4.09E-01\t1.00E-03\tPreferredStockParOrStatedValuePerShare\n",
      "8.62E+06\t3.14E+06\tPreferredStockSharesAuthorized\n",
      "1.23E+05\t9.53E+05\tPreferredStockSharesIssued\n",
      "9.45E+06\t4.50E+07\tPreferredStockValue\n",
      "3.42E+08\t1.91E+09\tPropertyPlantAndEquipmentNet\n",
      "3.78E+08\t9.21E+08\tRetainedEarningsAccumulatedDeficit\n",
      "5.11E+08\t1.30E+09\tStockholdersEquity\n",
      "3.81E+08\t9.29E+08\tStockholdersEquityIncludingPortionAttributableToNoncontrollingInterest\n",
      "1.41E+06\t2.45E+06\tTreasuryStockShares\n",
      "1.83E+07\t9.22E+07\tTreasuryStockValue\n"
     ]
    }
   ],
   "source": [
    "print('Prediction\\tCarry\\t\\tFeature')\n",
    "print('-'*50)\n",
    "for i,feature in enumerate(rawdata['2012q1']['columns']):\n",
    "    MAE_pred = metrics.mean_absolute_error(y_true = true_untransformed[:,-1,i], y_pred= pred_untransformed[:,-1,i])\n",
    "    MAE_carryforward = metrics.mean_absolute_error(y_true = true_untransformed[:,-1,i], y_pred = true_untransformed[:,-2,i])\n",
    "    print('%.2E\\t%.2E\\t%s' % (MAE_pred, MAE_carryforward,feature))\n"
   ]
  },
  {
   "cell_type": "code",
   "execution_count": 630,
   "metadata": {},
   "outputs": [
    {
     "data": {
      "text/plain": [
       "['AccountsPayableCurrent',\n",
       " 'AccountsReceivableNetCurrent',\n",
       " 'AccumulatedOtherComprehensiveIncomeLossNetOfTax',\n",
       " 'AdditionalPaidInCapital',\n",
       " 'AdditionalPaidInCapitalCommonStock',\n",
       " 'Assets',\n",
       " 'AssetsCurrent',\n",
       " 'CashAndCashEquivalentsAtCarryingValue',\n",
       " 'CommitmentsAndContingencies',\n",
       " 'Goodwill',\n",
       " 'IntangibleAssetsNetExcludingGoodwill',\n",
       " 'InventoryNet',\n",
       " 'LiabilitiesAndStockholdersEquity',\n",
       " 'LiabilitiesCurrent',\n",
       " 'LongTermDebtNoncurrent',\n",
       " 'MinorityInterest',\n",
       " 'OtherAssetsCurrent',\n",
       " 'OtherAssetsNoncurrent',\n",
       " 'OtherLiabilitiesNoncurrent',\n",
       " 'PreferredStockParOrStatedValuePerShare',\n",
       " 'PreferredStockSharesAuthorized',\n",
       " 'PreferredStockSharesIssued',\n",
       " 'PreferredStockValue',\n",
       " 'PropertyPlantAndEquipmentNet',\n",
       " 'RetainedEarningsAccumulatedDeficit',\n",
       " 'StockholdersEquity',\n",
       " 'StockholdersEquityIncludingPortionAttributableToNoncontrollingInterest',\n",
       " 'TreasuryStockShares',\n",
       " 'TreasuryStockValue']"
      ]
     },
     "execution_count": 630,
     "metadata": {},
     "output_type": "execute_result"
    }
   ],
   "source": []
  },
  {
   "cell_type": "code",
   "execution_count": 625,
   "metadata": {},
   "outputs": [
    {
     "data": {
      "text/plain": [
       "(51, 32, 29)"
      ]
     },
     "execution_count": 625,
     "metadata": {},
     "output_type": "execute_result"
    }
   ],
   "source": [
    "true_untransformed.shape"
   ]
  },
  {
   "cell_type": "code",
   "execution_count": 623,
   "metadata": {},
   "outputs": [
    {
     "ename": "ValueError",
     "evalue": "continuous-multioutput is not supported",
     "output_type": "error",
     "traceback": [
      "\u001b[1;31m---------------------------------------------------------------------------\u001b[0m",
      "\u001b[1;31mValueError\u001b[0m                                Traceback (most recent call last)",
      "\u001b[1;32m<ipython-input-623-f6504b11784d>\u001b[0m in \u001b[0;36m<module>\u001b[1;34m\u001b[0m\n\u001b[1;32m----> 1\u001b[1;33m \u001b[0mmetrics\u001b[0m\u001b[1;33m.\u001b[0m\u001b[0maccuracy_score\u001b[0m\u001b[1;33m(\u001b[0m\u001b[0my_true\u001b[0m \u001b[1;33m=\u001b[0m \u001b[0mtrue_untransformed\u001b[0m\u001b[1;33m[\u001b[0m\u001b[1;33m:\u001b[0m\u001b[1;33m,\u001b[0m\u001b[1;33m-\u001b[0m\u001b[1;36m1\u001b[0m\u001b[1;33m]\u001b[0m\u001b[1;33m,\u001b[0m \u001b[0my_pred\u001b[0m \u001b[1;33m=\u001b[0m \u001b[0mtrue_untransformed\u001b[0m\u001b[1;33m[\u001b[0m\u001b[1;33m:\u001b[0m\u001b[1;33m,\u001b[0m\u001b[1;33m-\u001b[0m\u001b[1;36m2\u001b[0m\u001b[1;33m]\u001b[0m\u001b[1;33m)\u001b[0m\u001b[1;33m\u001b[0m\u001b[1;33m\u001b[0m\u001b[0m\n\u001b[0m",
      "\u001b[1;32m~\\AppData\\Local\\Programs\\Python\\Python37\\lib\\site-packages\\sklearn\\metrics\\_classification.py\u001b[0m in \u001b[0;36maccuracy_score\u001b[1;34m(y_true, y_pred, normalize, sample_weight)\u001b[0m\n\u001b[0;32m    183\u001b[0m \u001b[1;33m\u001b[0m\u001b[0m\n\u001b[0;32m    184\u001b[0m     \u001b[1;31m# Compute accuracy for each possible representation\u001b[0m\u001b[1;33m\u001b[0m\u001b[1;33m\u001b[0m\u001b[1;33m\u001b[0m\u001b[0m\n\u001b[1;32m--> 185\u001b[1;33m     \u001b[0my_type\u001b[0m\u001b[1;33m,\u001b[0m \u001b[0my_true\u001b[0m\u001b[1;33m,\u001b[0m \u001b[0my_pred\u001b[0m \u001b[1;33m=\u001b[0m \u001b[0m_check_targets\u001b[0m\u001b[1;33m(\u001b[0m\u001b[0my_true\u001b[0m\u001b[1;33m,\u001b[0m \u001b[0my_pred\u001b[0m\u001b[1;33m)\u001b[0m\u001b[1;33m\u001b[0m\u001b[1;33m\u001b[0m\u001b[0m\n\u001b[0m\u001b[0;32m    186\u001b[0m     \u001b[0mcheck_consistent_length\u001b[0m\u001b[1;33m(\u001b[0m\u001b[0my_true\u001b[0m\u001b[1;33m,\u001b[0m \u001b[0my_pred\u001b[0m\u001b[1;33m,\u001b[0m \u001b[0msample_weight\u001b[0m\u001b[1;33m)\u001b[0m\u001b[1;33m\u001b[0m\u001b[1;33m\u001b[0m\u001b[0m\n\u001b[0;32m    187\u001b[0m     \u001b[1;32mif\u001b[0m \u001b[0my_type\u001b[0m\u001b[1;33m.\u001b[0m\u001b[0mstartswith\u001b[0m\u001b[1;33m(\u001b[0m\u001b[1;34m'multilabel'\u001b[0m\u001b[1;33m)\u001b[0m\u001b[1;33m:\u001b[0m\u001b[1;33m\u001b[0m\u001b[1;33m\u001b[0m\u001b[0m\n",
      "\u001b[1;32m~\\AppData\\Local\\Programs\\Python\\Python37\\lib\\site-packages\\sklearn\\metrics\\_classification.py\u001b[0m in \u001b[0;36m_check_targets\u001b[1;34m(y_true, y_pred)\u001b[0m\n\u001b[0;32m     95\u001b[0m     \u001b[1;31m# No metrics support \"multiclass-multioutput\" format\u001b[0m\u001b[1;33m\u001b[0m\u001b[1;33m\u001b[0m\u001b[1;33m\u001b[0m\u001b[0m\n\u001b[0;32m     96\u001b[0m     \u001b[1;32mif\u001b[0m \u001b[1;33m(\u001b[0m\u001b[0my_type\u001b[0m \u001b[1;32mnot\u001b[0m \u001b[1;32min\u001b[0m \u001b[1;33m[\u001b[0m\u001b[1;34m\"binary\"\u001b[0m\u001b[1;33m,\u001b[0m \u001b[1;34m\"multiclass\"\u001b[0m\u001b[1;33m,\u001b[0m \u001b[1;34m\"multilabel-indicator\"\u001b[0m\u001b[1;33m]\u001b[0m\u001b[1;33m)\u001b[0m\u001b[1;33m:\u001b[0m\u001b[1;33m\u001b[0m\u001b[1;33m\u001b[0m\u001b[0m\n\u001b[1;32m---> 97\u001b[1;33m         \u001b[1;32mraise\u001b[0m \u001b[0mValueError\u001b[0m\u001b[1;33m(\u001b[0m\u001b[1;34m\"{0} is not supported\"\u001b[0m\u001b[1;33m.\u001b[0m\u001b[0mformat\u001b[0m\u001b[1;33m(\u001b[0m\u001b[0my_type\u001b[0m\u001b[1;33m)\u001b[0m\u001b[1;33m)\u001b[0m\u001b[1;33m\u001b[0m\u001b[1;33m\u001b[0m\u001b[0m\n\u001b[0m\u001b[0;32m     98\u001b[0m \u001b[1;33m\u001b[0m\u001b[0m\n\u001b[0;32m     99\u001b[0m     \u001b[1;32mif\u001b[0m \u001b[0my_type\u001b[0m \u001b[1;32min\u001b[0m \u001b[1;33m[\u001b[0m\u001b[1;34m\"binary\"\u001b[0m\u001b[1;33m,\u001b[0m \u001b[1;34m\"multiclass\"\u001b[0m\u001b[1;33m]\u001b[0m\u001b[1;33m:\u001b[0m\u001b[1;33m\u001b[0m\u001b[1;33m\u001b[0m\u001b[0m\n",
      "\u001b[1;31mValueError\u001b[0m: continuous-multioutput is not supported"
     ]
    }
   ],
   "source": [
    "metrics.accuracy_score(y_true = true_untransformed[:,-1], y_pred = true_untransformed[:,-2])"
   ]
  }
 ],
 "metadata": {
  "kernelspec": {
   "display_name": "env",
   "language": "python",
   "name": "env"
  },
  "language_info": {
   "codemirror_mode": {
    "name": "ipython",
    "version": 3
   },
   "file_extension": ".py",
   "mimetype": "text/x-python",
   "name": "python",
   "nbconvert_exporter": "python",
   "pygments_lexer": "ipython3",
   "version": "3.7.5"
  }
 },
 "nbformat": 4,
 "nbformat_minor": 4
}
