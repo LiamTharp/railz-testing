{
 "cells": [
  {
   "cell_type": "code",
   "execution_count": 1,
   "metadata": {},
   "outputs": [],
   "source": [
    "from bs4 import BeautifulSoup\n",
    "import pandas as pd\n",
    "import os\n",
    "import json\n",
    "import requests\n",
    "import numpy as np\n",
    "import re\n",
    "from matplotlib import pyplot as plt\n",
    "import winsound, time"
   ]
  },
  {
   "cell_type": "code",
   "execution_count": 2,
   "metadata": {},
   "outputs": [
    {
     "name": "stderr",
     "output_type": "stream",
     "text": [
      "b'Skipping line 620821: expected 10 fields, saw 11\\n'\n",
      "b'Skipping line 884837: expected 10 fields, saw 11\\n'\n"
     ]
    },
    {
     "name": "stdout",
     "output_type": "stream",
     "text": [
      "Complete\n"
     ]
    }
   ],
   "source": [
    "sub = {}\n",
    "num = {}\n",
    "pre = {}\n",
    "\n",
    "for quarter in os.listdir('./data/edgar-download/'):\n",
    "#     if bool(re.search(r'20[0-2][0-57-9]q[1-4]',quarter)):\n",
    "#         print(quarter+' skipped')\n",
    "#         continue\n",
    "#     print(quarter)\n",
    "\n",
    "    sub[quarter] = pd.read_csv(r'./data/edgar-download/' + quarter + r'/sub.txt', delimiter= '\\t', dtype='str')\n",
    "    num[quarter] = pd.read_csv(r'./data/edgar-download/' + quarter + r'/num.txt', delimiter= '\\t', encoding='unicode_escape', dtype='str')\n",
    "    pre[quarter] = pd.read_csv(r'./data/edgar-download/' + quarter + r'/pre.txt', delimiter= '\\t', encoding='unicode_escape', error_bad_lines=False, dtype='str')\n",
    "\n",
    "print('Complete')"
   ]
  },
  {
   "cell_type": "code",
   "execution_count": 95,
   "metadata": {},
   "outputs": [],
   "source": [
    "winsound.Beep(440,3000)"
   ]
  },
  {
   "cell_type": "code",
   "execution_count": 3,
   "metadata": {},
   "outputs": [],
   "source": [
    "CIK = pd.DataFrame()\n",
    "\n",
    "for quarter in sub.keys():\n",
    "    t = pd.Series(index = sub[quarter]['cik'].drop_duplicates(), name=quarter)\n",
    "# t = pd.Series(index= sub['2009q4']['cik'], name='2009q3')\n",
    "    t[:]=True\n",
    "    CIK = CIK.join(t, how='outer')\n",
    "    quarters = CIK.filter(regex=r'20[1-2][2-9]').columns\n",
    "    \n",
    "# Filter CIKs by those who have complete datasets from 2012 onwards\n",
    "CIK = CIK[CIK.filter(regex=r'20[1-2][2-9]').transpose().count() == 32].filter(regex=r'20[1-2][2-9]').index.values\n",
    "\n"
   ]
  },
  {
   "cell_type": "code",
   "execution_count": 74,
   "metadata": {},
   "outputs": [
    {
     "data": {
      "text/plain": [
       "EntityPublicFloat                                               376\n",
       "LiabilitiesAndStockholdersEquity                                374\n",
       "Assets                                                          371\n",
       "CashAndCashEquivalentsPeriodIncreaseDecrease                    363\n",
       "NetCashProvidedByUsedInInvestingActivities                      354\n",
       "                                                               ... \n",
       "DefinedBenefitPlanSensitivityAnalysisDiscountRateAssumptions      1\n",
       "EstimatedLitigationSettlementLossUsDollar                         1\n",
       "BasedUponRedemptionsOfPreferredPartnershipUnits                   1\n",
       "GainLossOnOtherEmploymentRelatedBenefitPlansNetOfTax              1\n",
       "Minorityinterestequitycompensationexpense                         1\n",
       "Name: tag, Length: 21216, dtype: int64"
      ]
     },
     "execution_count": 74,
     "metadata": {},
     "output_type": "execute_result"
    }
   ],
   "source": [
    "NUMS[q].tag.value_counts()"
   ]
  },
  {
   "cell_type": "code",
   "execution_count": 93,
   "metadata": {},
   "outputs": [
    {
     "name": "stdout",
     "output_type": "stream",
     "text": [
      "2012q1\n",
      "2012q2\n",
      "2012q3\n",
      "2012q4\n",
      "2013q1\n",
      "2013q2\n",
      "2013q3\n",
      "2013q4\n",
      "2014q1\n",
      "2014q2\n",
      "2014q3\n",
      "2014q4\n",
      "2015q1\n",
      "2015q2\n",
      "2015q3\n",
      "2015q4\n",
      "2016q1\n",
      "2016q2\n",
      "2016q3\n",
      "2016q4\n",
      "2017q1\n",
      "2017q2\n",
      "2017q3\n",
      "2017q4\n",
      "2018q1\n",
      "2018q2\n",
      "2018q3\n",
      "2018q4\n",
      "2019q1\n",
      "2019q2\n",
      "2019q3\n",
      "2019q4\n"
     ]
    }
   ],
   "source": [
    "# Dicts to store most common (of their respective name) for each quarter\n",
    "TAGS = {} \n",
    "ADSH = {} \n",
    "NUMS = {}\n",
    "PIVOT = {}\n",
    "\n",
    "for quarter in quarters:\n",
    "    \n",
    "    print(quarter)\n",
    "\n",
    "    \n",
    "    # Choose ADSH from 'sub' sheet, filter CIKs from master list, and form from the most popular form of the quarter\n",
    "    ADSH[quarter] = sub[quarter][\n",
    "        (sub[quarter]['form'] == sub[quarter]['form'].value_counts().index[sub[quarter]['form'].value_counts().index.str.match(r'10-')][0])\n",
    "        & (sub[quarter]['cik'].isin(CIK))\n",
    "    ].sort_values(by='accepted').drop_duplicates(subset=['cik','form'], keep='last')[['cik','adsh']].sort_values(by='cik',ascending=False)\n",
    "    \n",
    "    ADSH[quarter] = ADSH[quarter]['cik'].str.pad(width=10,side='left',fillchar='0').str.cat(ADSH[quarter]['adsh'].str.split('-').str[1], sep='-').str.cat(ADSH[quarter]['adsh'].str.split('-').str[2], sep='-')\n",
    "    \n",
    "    pre[quarter].columns = pre[quarter].columns.str.strip() # strip text, not all formatted correctly\n",
    "    \n",
    "    \n",
    "    TAGS[quarter] = pre[quarter][\n",
    "        (pre[quarter]['adsh'].isin(ADSH[quarter])) # Choose ADSH from chosen list\n",
    "        & (pre[quarter]['stmt'] == 'BS')  # Choose the balance sheet\n",
    "    ]['tag'].value_counts()[:50]\n",
    "\n",
    "    NUMS[quarter] = num[quarter][\n",
    "        (num[quarter]['adsh'].isin(ADSH[quarter])) \n",
    "        & (num[quarter]['tag'].isin(TAGS[quarter].index))\n",
    "    ][['adsh','tag','value']]\n",
    "    \n",
    "    NUMS[quarter] = NUMS[quarter].drop_duplicates(subset=['adsh','tag'], keep='last').sort_index()\n",
    "\n",
    "    # PIVOT the table so that the rows are the ADSH, and columns are the common tags\n",
    "    PIVOT[quarter] = NUMS[quarter].pivot(index='adsh', columns='tag')\n",
    "    PIVOT[quarter].columns = PIVOT[quarter].columns.droplevel()\n",
    "    PIVOT[quarter] = PIVOT[quarter].sort_index()\n",
    "\n",
    "    \n",
    "a = NUMS[quarters[0]].tag.value_counts().index\n",
    "b = pd.Series(index= NUMS[quarters[0]]['adsh'].str.split('-').str[0]).index.drop_duplicates()\n",
    "\n",
    "for quarter in quarters:\n",
    "    a = a.join(NUMS[quarter].tag.value_counts().index,how='inner')\n",
    "    c = pd.Series(index= NUMS[quarter]['adsh'].str.split('-').str[0]).index.drop_duplicates()\n",
    "    b = b.join(c, how='inner')\n",
    "    \n",
    "    \n",
    "for quarter in quarters:\n",
    "    PIVOT[quarter] = PIVOT[quarter].loc[:, PIVOT[quarter].columns.isin(a)]\n",
    "    PIVOT[quarter] = PIVOT[quarter].reindex(sorted(PIVOT[quarter].columns), axis=1)\n",
    "    PIVOT[quarter] = PIVOT[quarter][PIVOT[quarter].index.str.split('-').str[0].isin(b)].sort_index()"
   ]
  },
  {
   "cell_type": "code",
   "execution_count": 94,
   "metadata": {},
   "outputs": [
    {
     "name": "stdout",
     "output_type": "stream",
     "text": [
      "2012q1 29\n",
      "2012q2 29\n",
      "2012q3 29\n",
      "2012q4 29\n",
      "2013q1 29\n",
      "2013q2 29\n",
      "2013q3 29\n",
      "2013q4 29\n",
      "2014q1 29\n",
      "2014q2 29\n",
      "2014q3 29\n",
      "2014q4 29\n",
      "2015q1 29\n",
      "2015q2 29\n",
      "2015q3 29\n",
      "2015q4 29\n",
      "2016q1 29\n",
      "2016q2 29\n",
      "2016q3 29\n",
      "2016q4 29\n",
      "2017q1 29\n",
      "2017q2 29\n",
      "2017q3 29\n",
      "2017q4 29\n",
      "2018q1 29\n",
      "2018q2 29\n",
      "2018q3 29\n",
      "2018q4 29\n",
      "2019q1 29\n",
      "2019q2 29\n",
      "2019q3 29\n",
      "2019q4 29\n"
     ]
    }
   ],
   "source": [
    "for q in quarters:\n",
    "    print(q, PIVOT[q].columns.__len__())"
   ]
  },
  {
   "cell_type": "code",
   "execution_count": 97,
   "metadata": {},
   "outputs": [],
   "source": [
    "for q in quarters:\n",
    "    with open(r'./data/reshaped/' + q + r'.json', 'w') as f:\n",
    "        json.dump(PIVOT[q].to_dict('split'), f)"
   ]
  }
 ],
 "metadata": {
  "kernelspec": {
   "display_name": "env",
   "language": "python",
   "name": "env"
  },
  "language_info": {
   "codemirror_mode": {
    "name": "ipython",
    "version": 3
   },
   "file_extension": ".py",
   "mimetype": "text/x-python",
   "name": "python",
   "nbconvert_exporter": "python",
   "pygments_lexer": "ipython3",
   "version": "3.7.5"
  }
 },
 "nbformat": 4,
 "nbformat_minor": 4
}
